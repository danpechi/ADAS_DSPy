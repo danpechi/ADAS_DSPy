{
 "cells": [
  {
   "cell_type": "code",
   "execution_count": 0,
   "metadata": {
    "application/vnd.databricks.v1+cell": {
     "cellMetadata": {
      "byteLimit": 2048000,
      "rowLimit": 10000
     },
     "inputWidgets": {},
     "nuid": "cfaf1056-3894-4b3e-bbe6-ef4a0aaab6df",
     "showTitle": false,
     "tableResultSettingsMap": {},
     "title": ""
    }
   },
   "outputs": [],
   "source": [
    "%pip install dspy pyyaml\n",
    "%pip install --upgrade --force-reinstall databricks-vectorsearch \n",
    "dbutils.library.restartPython()"
   ]
  },
  {
   "cell_type": "code",
   "execution_count": 0,
   "metadata": {
    "application/vnd.databricks.v1+cell": {
     "cellMetadata": {
      "byteLimit": 2048000,
      "rowLimit": 10000
     },
     "inputWidgets": {},
     "nuid": "e4db548b-8072-43b8-bc86-7474727ea9ed",
     "showTitle": false,
     "tableResultSettingsMap": {},
     "title": ""
    }
   },
   "outputs": [],
   "source": [
    "import json\n",
    "import requests\n",
    "from pyspark.sql import Row\n",
    "import yaml\n",
    "\n",
    "from databricks.vector_search.client import VectorSearchClient\n",
    "\n",
    "import dspy\n",
    "from dspy import Databricks\n",
    "from dspy.retrieve.databricks_rm import DatabricksRM\n",
    "import os\n",
    "import pandas as pd\n",
    "\n",
    "import mlflow\n",
    "from mlflow import MlflowClient"
   ]
  },
  {
   "cell_type": "code",
   "execution_count": 0,
   "metadata": {
    "application/vnd.databricks.v1+cell": {
     "cellMetadata": {
      "byteLimit": 2048000,
      "rowLimit": 10000
     },
     "inputWidgets": {},
     "nuid": "55b8cc4f-ce32-47ea-b6f3-43181ddb4b4e",
     "showTitle": false,
     "tableResultSettingsMap": {},
     "title": ""
    }
   },
   "outputs": [],
   "source": [
    "# Load the configuration\n",
    "def load_config(config_path):\n",
    "    with open(config_path, \"r\") as file:\n",
    "        config = yaml.safe_load(file)  # Use safe_load to avoid arbitrary code execution\n",
    "    return config\n",
    "\n",
    "# Access the configuration\n",
    "config = load_config(\"config.yaml\")\n",
    "secrets = load_config(\".secrets\")\n",
    "\n",
    "# Access the configuration values\n",
    "user_path = config[\"user\"][\"path\"]\n",
    "catalog_name = config[\"database\"][\"catalog_name\"]\n",
    "schema_name = config[\"database\"][\"schema_name\"]\n",
    "source_table_name = config[\"database\"][\"source_table_name\"]\n",
    "\n",
    "vector_search_endpoint_name = config[\"vector_search\"][\"endpoint_name\"]\n",
    "vs_index = config[\"vector_search\"][\"index\"]\n",
    "\n",
    "embedding_model_endpoint = config[\"models\"][\"embedding_model_endpoint\"]\n",
    "llm = config[\"models\"][\"llm\"]\n",
    "\n",
    "API_TOKEN = secrets[\"auth\"][\"api_token\"]\n",
    "\n",
    "registered_model_name = config[\"registered\"][\"model_name\"]\n",
    "registered_endpoint_name = config[\"registered\"][\"endpoint_name\"]\n",
    "\n",
    "\n",
    "API_ROOT = dbutils.notebook.entry_point.getDbutils().notebook().getContext().apiUrl().get() "
   ]
  },
  {
   "cell_type": "markdown",
   "metadata": {
    "application/vnd.databricks.v1+cell": {
     "cellMetadata": {},
     "inputWidgets": {},
     "nuid": "9c1a891c-7aa8-4557-b835-a227f7e9e051",
     "showTitle": false,
     "tableResultSettingsMap": {},
     "title": ""
    }
   },
   "source": [
    "\n",
    "### Create vector database from files"
   ]
  },
  {
   "cell_type": "code",
   "execution_count": 0,
   "metadata": {
    "application/vnd.databricks.v1+cell": {
     "cellMetadata": {
      "byteLimit": 2048000,
      "rowLimit": 10000
     },
     "inputWidgets": {},
     "nuid": "7f4da678-ce79-487b-b7db-c193b67e1e57",
     "showTitle": false,
     "tableResultSettingsMap": {},
     "title": ""
    }
   },
   "outputs": [],
   "source": [
    "#get previous agents\n",
    "with open(f\"/Workspace/Users/{user_path}/ADAS_DSPy/script_archive/dspy_modules.json\", \"r\") as file:\n",
    "    data = json.load(file)\n",
    "all_modules = []\n",
    "\n",
    "for d in data:\n",
    "    fp = d['file_path']\n",
    "    for n, m in enumerate(d['modules']):\n",
    "        all_modules.append((f\"{fp}_{n}\", m))\n",
    "\n",
    "source_df = spark.createDataFrame([Row(id=item[0], module=item[1]) for item in all_modules])\n",
    "display(source_df)"
   ]
  },
  {
   "cell_type": "code",
   "execution_count": 0,
   "metadata": {
    "application/vnd.databricks.v1+cell": {
     "cellMetadata": {
      "byteLimit": 2048000,
      "rowLimit": 10000
     },
     "inputWidgets": {},
     "nuid": "88bde4a5-60e9-486f-9d01-5d53c4864a0a",
     "showTitle": false,
     "tableResultSettingsMap": {},
     "title": ""
    }
   },
   "outputs": [],
   "source": [
    "source_table_fullname = f\"{catalog_name}.{schema_name}.{source_table_name}\"\n",
    "# Vector index\n",
    "vs_index_fullname = f\"{catalog_name}.{schema_name}.{vs_index}\""
   ]
  },
  {
   "cell_type": "code",
   "execution_count": 0,
   "metadata": {
    "application/vnd.databricks.v1+cell": {
     "cellMetadata": {
      "byteLimit": 2048000,
      "rowLimit": 10000
     },
     "inputWidgets": {},
     "nuid": "74cf0aa3-69ac-43bf-b041-8d2b6ce983f9",
     "showTitle": false,
     "tableResultSettingsMap": {},
     "title": ""
    }
   },
   "outputs": [],
   "source": [
    "source_df.write.format(\"delta\").option(\"delta.enableChangeDataFeed\", \"true\").saveAsTable(source_table_fullname)"
   ]
  },
  {
   "cell_type": "code",
   "execution_count": 0,
   "metadata": {
    "application/vnd.databricks.v1+cell": {
     "cellMetadata": {
      "byteLimit": 2048000,
      "rowLimit": 10000
     },
     "inputWidgets": {},
     "nuid": "4355194d-f79a-4766-a405-472c846be7bf",
     "showTitle": false,
     "tableResultSettingsMap": {},
     "title": ""
    }
   },
   "outputs": [],
   "source": [
    "#building vector store\n",
    "vsc = VectorSearchClient()\n",
    "\n",
    "vsc.create_endpoint(\n",
    "    name=vector_search_endpoint_name,\n",
    "    endpoint_type=\"STANDARD\"\n",
    ")\n",
    "\n",
    "endpoint = vsc.get_endpoint(\n",
    "  name=vector_search_endpoint_name)\n",
    "\n",
    "index = vsc.create_delta_sync_index(\n",
    "  endpoint_name=vector_search_endpoint_name,\n",
    "  source_table_name=source_table_fullname,\n",
    "  index_name=vs_index_fullname,\n",
    "  pipeline_type='TRIGGERED',\n",
    "  primary_key=\"id\",\n",
    "  embedding_source_column=\"module\",\n",
    "  embedding_model_endpoint_name=embedding_model_endpoint\n",
    ")\n",
    "index.describe()"
   ]
  },
  {
   "cell_type": "markdown",
   "metadata": {
    "application/vnd.databricks.v1+cell": {
     "cellMetadata": {},
     "inputWidgets": {},
     "nuid": "84cb9cdc-6680-4117-b5ff-9267ec0d09a6",
     "showTitle": false,
     "tableResultSettingsMap": {},
     "title": ""
    }
   },
   "source": [
    "\n",
    "### Defining agent"
   ]
  },
  {
   "cell_type": "code",
   "execution_count": 0,
   "metadata": {
    "application/vnd.databricks.v1+cell": {
     "cellMetadata": {
      "byteLimit": 2048000,
      "rowLimit": 10000
     },
     "inputWidgets": {},
     "nuid": "9ada0d1d-4ed1-4bad-b724-3a01f0eb84bd",
     "showTitle": false,
     "tableResultSettingsMap": {},
     "title": ""
    }
   },
   "outputs": [],
   "source": []
  },
  {
   "cell_type": "code",
   "execution_count": 0,
   "metadata": {
    "application/vnd.databricks.v1+cell": {
     "cellMetadata": {
      "byteLimit": 2048000,
      "rowLimit": 10000
     },
     "inputWidgets": {},
     "nuid": "6bdf9e30-7e65-401a-8bcd-c51610ed7233",
     "showTitle": false,
     "tableResultSettingsMap": {},
     "title": ""
    }
   },
   "outputs": [],
   "source": [
    "class RAG(dspy.Module):\n",
    "    def __init__(self, num_passages=3):\n",
    "        super().__init__()\n",
    "\n",
    "        # Define the retriever that fetches relevant documents from the Databricks Vector Search index\n",
    "        self.retriever = DatabricksRM(\n",
    "            databricks_endpoint=os.getenv(\"DATABRICKS_HOST\"),\n",
    "            databricks_index_name=vs_index_fullname,\n",
    "            databricks_token=os.getenv(\"DATABRICKS_TOKEN\"), \n",
    "            text_column_name=\"module\",\n",
    "            docs_id_column_name=\"id\",\n",
    "            k=2,\n",
    "        )\n",
    "        # Define the language model that will be used for response generation\n",
    "        self.lm = dspy.LM(llm)\n",
    "\n",
    "        # Define the program signature\n",
    "        # The response generator will be provided with a \"context\" and a \"request\",\n",
    "        # and will return a \"response\"\n",
    "        signature = \"example_modules, module_request -> new_module\"\n",
    "\n",
    "        # Define response generator\n",
    "        self.response_generator = dspy.Predict(signature)\n",
    "\n",
    "    def forward(self, request):\n",
    "\n",
    "        # Obtain context by executing a Databricks Vector Search query\n",
    "        retrieved_context = self.retriever(request)\n",
    "\n",
    "        # Generate a response using the language model defined in the __init__ method\n",
    "        with dspy.context(lm=self.lm):\n",
    "            response = self.response_generator(\n",
    "                example_modules=retrieved_context.docs, module_request=request\n",
    "            )\n",
    "\n",
    "        return response\n"
   ]
  },
  {
   "cell_type": "markdown",
   "metadata": {
    "application/vnd.databricks.v1+cell": {
     "cellMetadata": {},
     "inputWidgets": {},
     "nuid": "f0867c22-d6a5-4792-9791-a5e11330a583",
     "showTitle": false,
     "tableResultSettingsMap": {},
     "title": ""
    }
   },
   "source": [
    "\n",
    "### Deploying agent to endpoint"
   ]
  },
  {
   "cell_type": "code",
   "execution_count": 0,
   "metadata": {
    "application/vnd.databricks.v1+cell": {
     "cellMetadata": {
      "byteLimit": 2048000,
      "rowLimit": 10000
     },
     "inputWidgets": {},
     "nuid": "7c54b52f-708e-442b-8e8a-23c02e700cee",
     "showTitle": false,
     "tableResultSettingsMap": {},
     "title": ""
    }
   },
   "outputs": [],
   "source": [
    "rag = RAG()\n",
    "rag.forward(\"Program to do multi-hop reasoning\")"
   ]
  },
  {
   "cell_type": "code",
   "execution_count": 0,
   "metadata": {
    "application/vnd.databricks.v1+cell": {
     "cellMetadata": {
      "byteLimit": 2048000,
      "rowLimit": 10000
     },
     "inputWidgets": {},
     "nuid": "247c0db2-43f3-4dd8-b690-7ea47c76e630",
     "showTitle": false,
     "tableResultSettingsMap": {},
     "title": ""
    }
   },
   "outputs": [],
   "source": [
    "# Start an MLflow run\n",
    "with mlflow.start_run():\n",
    "    # Log the model\n",
    "    model_info = mlflow.dspy.log_model(\n",
    "        dspy_model=rag,\n",
    "        registered_model_name = registered_model_name,\n",
    "        artifact_path=\"model\",\n",
    "        input_example=\"Program to do multi-hop reasoning\",\n",
    "        pip_requirements=[\"dspy\"]\n",
    "    )"
   ]
  },
  {
   "cell_type": "code",
   "execution_count": 0,
   "metadata": {
    "application/vnd.databricks.v1+cell": {
     "cellMetadata": {
      "byteLimit": 2048000,
      "rowLimit": 10000
     },
     "inputWidgets": {},
     "nuid": "d4baf277-d4f4-48ce-b963-0819400adfcd",
     "showTitle": false,
     "tableResultSettingsMap": {},
     "title": ""
    }
   },
   "outputs": [],
   "source": [
    "# Set the name of the MLflow endpoint\n",
    "endpoint_name = registered_endpoint_name\n",
    "\n",
    "# Name of the registered MLflow model\n",
    "model_name = registered_model_name\n",
    "\n",
    "# Get the latest version of the MLflow model\n",
    "mlflow_client = MlflowClient()\n",
    "model_version = mlflow_client.search_model_versions(filter_string=f\"name='{registered_model_name}'\")[0].version\n",
    "\n",
    "# Specify the type of compute (CPU, GPU_SMALL, GPU_LARGE, etc.)\n",
    "workload_type = \"CPU_SMALL\" \n",
    "\n",
    "# Specify the scale-out size of compute (Small, Medium, Large, etc.)\n",
    "workload_size = \"Small\" \n",
    "\n",
    "# Specify Scale to Zero(only supported for CPU endpoints)\n",
    "scale_to_zero = False \n",
    "\n",
    "# Get the API endpoint and token for the current notebook context\n",
    "serving_host = spark.conf.get(\"spark.databricks.workspaceUrl\")"
   ]
  },
  {
   "cell_type": "code",
   "execution_count": 0,
   "metadata": {
    "application/vnd.databricks.v1+cell": {
     "cellMetadata": {
      "byteLimit": 2048000,
      "rowLimit": 10000
     },
     "inputWidgets": {},
     "nuid": "306cfbd3-aa2f-407e-876f-c7dc263629a1",
     "showTitle": false,
     "tableResultSettingsMap": {},
     "title": ""
    }
   },
   "outputs": [],
   "source": [
    "#Deploy the model to a model serving endpoint in databricks\n",
    "data = {\n",
    "    \"name\": endpoint_name,\n",
    "        \"served_entities\": [\n",
    "            {\n",
    "                \"entity_name\": registered_model_name,\n",
    "                \"entity_version\": model_version,\n",
    "                \"workload_size\": workload_size,\n",
    "                \"scale_to_zero_enabled\": scale_to_zero,\n",
    "                \"workload_type\": workload_type,\n",
    "                \"environment_vars\": {\n",
    "                    \"DATABRICKS_TOKEN\": f\"{API_TOKEN}\",\n",
    "                    \"DATABRICKS_HOST\": f\"{API_ROOT}\"\n",
    "                }\n",
    "            }\n",
    "        ]\n",
    "}\n",
    "\n",
    "headers = {\"Context-Type\": \"text/json\", \"Authorization\": f\"Bearer {API_TOKEN}\"}\n",
    "\n",
    "url = f\"https://{serving_host}/api/2.0/serving-endpoints/{endpoint_name}/config\"\n",
    "\n",
    "response = requests.put(\n",
    "    url=url, json=data, headers=headers\n",
    ")\n",
    "\n",
    "print(json.dumps(response.json(), indent=4)) "
   ]
  }
 ],
 "metadata": {
  "application/vnd.databricks.v1+notebook": {
   "dashboards": [],
   "environmentMetadata": {
    "base_environment": "",
    "client": "1"
   },
   "language": "python",
   "notebookMetadata": {
    "pythonIndentUnit": 4
   },
   "notebookName": "testing_notebook",
   "widgets": {}
  },
  "language_info": {
   "name": "python"
  }
 },
 "nbformat": 4,
 "nbformat_minor": 0
}
